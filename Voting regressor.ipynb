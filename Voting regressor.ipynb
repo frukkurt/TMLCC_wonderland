{
 "cells": [
  {
   "cell_type": "code",
   "execution_count": 1,
   "id": "3af486cd-63f6-4ec6-84e8-c7edfbe88142",
   "metadata": {},
   "outputs": [],
   "source": [
    "import pandas as pd\n",
    "import numpy as np\n",
    "import seaborn as sns\n",
    "import matplotlib.pyplot as plt\n",
    "import sklearn.preprocessing as preprocessing\n",
    "from sklearn.model_selection import train_test_split\n",
    "from sklearn import metrics \n",
    "from sklearn import linear_model\n",
    "\n",
    "from sklearn.preprocessing import PolynomialFeatures\n",
    "from sklearn.linear_model import LinearRegression\n",
    "from sklearn.pipeline import Pipeline\n",
    "from sklearn import tree\n",
    "\n",
    "\n",
    "from sklearn.ensemble import GradientBoostingRegressor\n",
    "from sklearn.ensemble import RandomForestRegressor\n",
    "from sklearn.linear_model import LinearRegression\n",
    "from sklearn.ensemble import VotingRegressor"
   ]
  },
  {
   "cell_type": "markdown",
   "id": "f80ff608-a410-4a07-a84b-3eff185e1447",
   "metadata": {},
   "source": [
    "### Load And Prepare Data"
   ]
  },
  {
   "cell_type": "code",
   "execution_count": 2,
   "id": "c22ea0bb-cec5-4bd5-92d3-a08ac6c848ab",
   "metadata": {},
   "outputs": [],
   "source": [
    "df_train = pd.read_csv('tmlcc-2021/train.csv')\n",
    "df_test = pd.read_csv('tmlcc-2021/test.csv')\n",
    "df_pre_train = pd.read_csv('tmlcc-2021/pretest.csv')"
   ]
  },
  {
   "cell_type": "code",
   "execution_count": 3,
   "id": "af69ecce-5d1a-468d-894d-3e34c68c24c3",
   "metadata": {},
   "outputs": [
    {
     "data": {
      "text/plain": [
       "MOFname                                          0\n",
       "volume [A^3]                                     0\n",
       "weight [u]                                       0\n",
       "surface_area [m^2/g]                             0\n",
       "void_fraction                                    0\n",
       "void_volume [cm^3/g]                             0\n",
       "functional_groups                                0\n",
       "metal_linker                                     0\n",
       "organic_linker1                                  0\n",
       "organic_linker2                                  0\n",
       "topology                                         0\n",
       "CO2/N2_selectivity                               0\n",
       "heat_adsorption_CO2_P0.15bar_T298K [kcal/mol]    0\n",
       "dtype: int64"
      ]
     },
     "execution_count": 3,
     "metadata": {},
     "output_type": "execute_result"
    }
   ],
   "source": [
    "df_test.isna().sum(axis=0)"
   ]
  },
  {
   "cell_type": "code",
   "execution_count": 4,
   "id": "a0115d02-66f1-44a9-b178-460f17504dc0",
   "metadata": {},
   "outputs": [
    {
     "data": {
      "text/plain": [
       "MOFname                                             0\n",
       "volume [A^3]                                        0\n",
       "weight [u]                                          0\n",
       "surface_area [m^2/g]                                0\n",
       "void_fraction                                       0\n",
       "void_volume [cm^3/g]                                0\n",
       "functional_groups                                 323\n",
       "metal_linker                                        0\n",
       "organic_linker1                                     0\n",
       "organic_linker2                                     0\n",
       "topology                                            0\n",
       "CO2/N2_selectivity                                  0\n",
       "heat_adsorption_CO2_P0.15bar_T298K [kcal/mol]    2087\n",
       "CO2_working_capacity [mL/g]                         0\n",
       "dtype: int64"
      ]
     },
     "execution_count": 4,
     "metadata": {},
     "output_type": "execute_result"
    }
   ],
   "source": [
    "df_train.isna().sum(axis=0)"
   ]
  },
  {
   "cell_type": "code",
   "execution_count": 5,
   "id": "7b97715a-c326-4805-b0b2-d2ac4fd9f69f",
   "metadata": {},
   "outputs": [
    {
     "data": {
      "text/plain": [
       "323"
      ]
     },
     "execution_count": 5,
     "metadata": {},
     "output_type": "execute_result"
    }
   ],
   "source": [
    "df_train['functional_groups'].isna().sum()"
   ]
  },
  {
   "cell_type": "code",
   "execution_count": 6,
   "id": "0fc453ee-8176-4c20-8926-c7c5d8a9f9d0",
   "metadata": {},
   "outputs": [],
   "source": [
    "df = df_train.dropna()"
   ]
  },
  {
   "cell_type": "code",
   "execution_count": 9,
   "id": "37fb656e-64ca-45fe-977f-6ae1ce8b07ab",
   "metadata": {},
   "outputs": [],
   "source": [
    "df_train.replace([np.inf], np.nan, inplace=True)\n",
    "df_train = df_train.dropna()"
   ]
  },
  {
   "cell_type": "code",
   "execution_count": 10,
   "id": "0f8ec190-6b06-4552-aff0-359ed06cf04e",
   "metadata": {},
   "outputs": [],
   "source": [
    "df_X = df_train.iloc[:, [1, 2, 3, 4, 5, 11, 12]]\n",
    "df_y = df_train.iloc[:, 13]\n",
    "\n",
    "df_test_X = df_test.iloc[:, [1, 2, 3, 4, 5, 11, 12]]"
   ]
  },
  {
   "cell_type": "code",
   "execution_count": 11,
   "id": "2be449fe-31d9-44a9-b8ac-316fece9f249",
   "metadata": {},
   "outputs": [
    {
     "data": {
      "text/plain": [
       "StandardScaler()"
      ]
     },
     "execution_count": 11,
     "metadata": {},
     "output_type": "execute_result"
    }
   ],
   "source": [
    "sd_scale = preprocessing.StandardScaler()\n",
    "sd_scale.fit(df_X)"
   ]
  },
  {
   "cell_type": "code",
   "execution_count": 12,
   "id": "dd5821be-7cf7-4bd8-bf80-fa9aff7c98e1",
   "metadata": {},
   "outputs": [],
   "source": [
    "X = sd_scale.transform(df_X)\n",
    "y = df_y"
   ]
  },
  {
   "cell_type": "code",
   "execution_count": 13,
   "id": "bb9bc1d0-46d6-4bdb-b418-10a69370eba7",
   "metadata": {},
   "outputs": [],
   "source": [
    "X_train, X_test, y_train, y_test = train_test_split(X, y, test_size=0.30, random_state=42)"
   ]
  },
  {
   "cell_type": "code",
   "execution_count": 15,
   "id": "dfb2aabb-da80-4ca0-85a6-8dbed9a57951",
   "metadata": {},
   "outputs": [],
   "source": [
    "# Loading some example data\n",
    "#X, y = X_train, y_train\n",
    "\n",
    "# Training classifiers\n",
    "reg1 = GradientBoostingRegressor()\n",
    "reg2 = RandomForestRegressor(max_depth = 30, min_samples_split= 3, n_estimators= 1000, n_jobs= 5, random_state= 42)\n",
    "reg3 = model = Pipeline([('poly', PolynomialFeatures(degree=4)),\n",
    "                  ('linear', LinearRegression(fit_intercept=False))])\n",
    "ereg = VotingRegressor(estimators=[('gb', reg1), ('rf', reg2), ('lr', reg3)])\n",
    "ereg = ereg.fit(X, y)"
   ]
  },
  {
   "cell_type": "code",
   "execution_count": 16,
   "id": "811ea716-1c42-49f3-aaab-7c7d8bbe4497",
   "metadata": {},
   "outputs": [
    {
     "data": {
      "text/plain": [
       "0.9022107947666886"
      ]
     },
     "execution_count": 16,
     "metadata": {},
     "output_type": "execute_result"
    }
   ],
   "source": [
    "ereg.score(X, y)"
   ]
  },
  {
   "cell_type": "code",
   "execution_count": 17,
   "id": "3fced660-d2e0-4895-a1e3-0c59fb5e8a8a",
   "metadata": {},
   "outputs": [],
   "source": [
    "X_test = sd_scale.transform(df_test_X)\n",
    "pred = ereg.predict(X_test)\n",
    "ID = np.arange(68614, 85614)\n",
    "pd.DataFrame({'id':ID, 'CO2_working_capacity [mL/g]': pred}).set_index('id').to_csv('submission.csv')"
   ]
  },
  {
   "cell_type": "code",
   "execution_count": 18,
   "id": "5fecf305-4822-48ab-9694-3186d4797c89",
   "metadata": {},
   "outputs": [],
   "source": [
    "from zipfile import ZipFile"
   ]
  },
  {
   "cell_type": "code",
   "execution_count": 19,
   "id": "a411555c-68ec-4853-9ad4-fe242ee56abe",
   "metadata": {},
   "outputs": [],
   "source": [
    "with ZipFile('model02.zip', mode='w') as zf:\n",
    "        zf.write('submission.csv')"
   ]
  },
  {
   "cell_type": "code",
   "execution_count": null,
   "id": "3f9016d9-08bf-4a63-90ea-5ffaf8a1acd7",
   "metadata": {},
   "outputs": [],
   "source": []
  }
 ],
 "metadata": {
  "kernelspec": {
   "display_name": "Python (AIML)",
   "language": "python",
   "name": "aiml"
  },
  "language_info": {
   "codemirror_mode": {
    "name": "ipython",
    "version": 3
   },
   "file_extension": ".py",
   "mimetype": "text/x-python",
   "name": "python",
   "nbconvert_exporter": "python",
   "pygments_lexer": "ipython3",
   "version": "3.7.9"
  }
 },
 "nbformat": 4,
 "nbformat_minor": 5
}
