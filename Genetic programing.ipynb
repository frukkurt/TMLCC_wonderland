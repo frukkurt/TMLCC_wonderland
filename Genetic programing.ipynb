{
 "cells": [
  {
   "cell_type": "code",
   "execution_count": 1,
   "id": "fbf1b187-ea91-4009-935a-2b5d282d6a35",
   "metadata": {},
   "outputs": [],
   "source": [
    "import numpy as np\n",
    "import math\n",
    "import pandas as pd\n",
    "from gplearn.genetic import SymbolicRegressor\n",
    "from sklearn.model_selection import train_test_split\n",
    "from sympy import *\n",
    "from sklearn import metrics \n",
    "from gplearn.functions import make_function"
   ]
  },
  {
   "cell_type": "code",
   "execution_count": 2,
   "id": "afd3ca04-d845-4982-a9b0-652875662f41",
   "metadata": {
    "tags": []
   },
   "outputs": [],
   "source": [
    "df_train = pd.read_csv('tmlcc-2021/train.csv')\n",
    "df_test = pd.read_csv('tmlcc-2021/test.csv')\n",
    "df_pre_train = pd.read_csv('tmlcc-2021/pretest.csv')"
   ]
  },
  {
   "cell_type": "code",
   "execution_count": 3,
   "id": "b8db1b19-d080-4180-b7b4-c160590818d6",
   "metadata": {},
   "outputs": [],
   "source": [
    "df_train = df_train.iloc[:, [1, 2, 3, 4, 5, 11, 12, 13]]"
   ]
  },
  {
   "cell_type": "code",
   "execution_count": 4,
   "id": "1fdd1938-5d15-4da9-bbfd-533cb4da261c",
   "metadata": {},
   "outputs": [
    {
     "data": {
      "text/html": [
       "<div>\n",
       "<style scoped>\n",
       "    .dataframe tbody tr th:only-of-type {\n",
       "        vertical-align: middle;\n",
       "    }\n",
       "\n",
       "    .dataframe tbody tr th {\n",
       "        vertical-align: top;\n",
       "    }\n",
       "\n",
       "    .dataframe thead th {\n",
       "        text-align: right;\n",
       "    }\n",
       "</style>\n",
       "<table border=\"1\" class=\"dataframe\">\n",
       "  <thead>\n",
       "    <tr style=\"text-align: right;\">\n",
       "      <th></th>\n",
       "      <th>a</th>\n",
       "      <th>b</th>\n",
       "      <th>c</th>\n",
       "      <th>d</th>\n",
       "      <th>e</th>\n",
       "      <th>f</th>\n",
       "      <th>g</th>\n",
       "      <th>label</th>\n",
       "    </tr>\n",
       "  </thead>\n",
       "  <tbody>\n",
       "    <tr>\n",
       "      <th>0</th>\n",
       "      <td>1116.667429</td>\n",
       "      <td>875.240600</td>\n",
       "      <td>0.00</td>\n",
       "      <td>0.07899</td>\n",
       "      <td>0.0607</td>\n",
       "      <td>22.864166</td>\n",
       "      <td>6.786041</td>\n",
       "      <td>105.284502</td>\n",
       "    </tr>\n",
       "    <tr>\n",
       "      <th>1</th>\n",
       "      <td>2769.503842</td>\n",
       "      <td>2211.697211</td>\n",
       "      <td>603.61</td>\n",
       "      <td>0.13794</td>\n",
       "      <td>0.1040</td>\n",
       "      <td>33.616780</td>\n",
       "      <td>7.147286</td>\n",
       "      <td>101.224774</td>\n",
       "    </tr>\n",
       "    <tr>\n",
       "      <th>2</th>\n",
       "      <td>1089.818728</td>\n",
       "      <td>773.687960</td>\n",
       "      <td>788.50</td>\n",
       "      <td>0.14874</td>\n",
       "      <td>0.1262</td>\n",
       "      <td>19.263726</td>\n",
       "      <td>6.347967</td>\n",
       "      <td>118.987011</td>\n",
       "    </tr>\n",
       "    <tr>\n",
       "      <th>3</th>\n",
       "      <td>2205.198301</td>\n",
       "      <td>1304.638720</td>\n",
       "      <td>1441.53</td>\n",
       "      <td>0.21814</td>\n",
       "      <td>0.2220</td>\n",
       "      <td>25.701377</td>\n",
       "      <td>6.190085</td>\n",
       "      <td>187.626004</td>\n",
       "    </tr>\n",
       "    <tr>\n",
       "      <th>4</th>\n",
       "      <td>1137.800963</td>\n",
       "      <td>901.736120</td>\n",
       "      <td>0.00</td>\n",
       "      <td>0.07778</td>\n",
       "      <td>0.0591</td>\n",
       "      <td>30.001838</td>\n",
       "      <td>6.478063</td>\n",
       "      <td>79.210001</td>\n",
       "    </tr>\n",
       "  </tbody>\n",
       "</table>\n",
       "</div>"
      ],
      "text/plain": [
       "             a            b        c        d       e          f         g  \\\n",
       "0  1116.667429   875.240600     0.00  0.07899  0.0607  22.864166  6.786041   \n",
       "1  2769.503842  2211.697211   603.61  0.13794  0.1040  33.616780  7.147286   \n",
       "2  1089.818728   773.687960   788.50  0.14874  0.1262  19.263726  6.347967   \n",
       "3  2205.198301  1304.638720  1441.53  0.21814  0.2220  25.701377  6.190085   \n",
       "4  1137.800963   901.736120     0.00  0.07778  0.0591  30.001838  6.478063   \n",
       "\n",
       "        label  \n",
       "0  105.284502  \n",
       "1  101.224774  \n",
       "2  118.987011  \n",
       "3  187.626004  \n",
       "4   79.210001  "
      ]
     },
     "execution_count": 4,
     "metadata": {},
     "output_type": "execute_result"
    }
   ],
   "source": [
    "df_train.columns = ['a','b','c','d','e','f','g', 'label']\n",
    "df_train.head()"
   ]
  },
  {
   "cell_type": "code",
   "execution_count": 5,
   "id": "4905ed99-8693-411e-89b6-65f3516be81a",
   "metadata": {},
   "outputs": [
    {
     "data": {
      "text/plain": [
       "a           0\n",
       "b           0\n",
       "c           0\n",
       "d           0\n",
       "e           0\n",
       "f           0\n",
       "g        2087\n",
       "label       0\n",
       "dtype: int64"
      ]
     },
     "execution_count": 5,
     "metadata": {},
     "output_type": "execute_result"
    }
   ],
   "source": [
    "df_train.isna().sum(axis=0)"
   ]
  },
  {
   "cell_type": "code",
   "execution_count": 6,
   "id": "51423b76-732c-4c40-976a-c1c23b5ea94a",
   "metadata": {},
   "outputs": [],
   "source": [
    "# Max_heat = df_train['heat_adsorption_CO2_P0.15bar_T298K [kcal/mol]'].replace([np.inf], 0).max()\n",
    "# df_train['heat_adsorption_CO2_P0.15bar_T298K [kcal/mol]'].replace([np.inf], Max_heat, inplace=True)\n",
    "# df_train['heat_adsorption_CO2_P0.15bar_T298K [kcal/mol]'].fillna(df_train[\"heat_adsorption_CO2_P0.15bar_T298K [kcal/mol]\"].median(), inplace=True)\n",
    "df_train.replace([np.inf], np.nan, inplace=True)\n",
    "df_train = df_train.dropna()"
   ]
  },
  {
   "cell_type": "code",
   "execution_count": 7,
   "id": "473461c7-adca-450e-bf81-a99928dc3905",
   "metadata": {},
   "outputs": [],
   "source": [
    "y = df_train.pop(\"label\")\n",
    "X = df_train                                                                           \n",
    "y_true = y\n",
    "#X_train, X_test, y_train, y_test = train_test_split(X, y, test_size=0.30, random_state=42)"
   ]
  },
  {
   "cell_type": "code",
   "execution_count": 8,
   "id": "eef71fd5-ae15-4603-96bc-55f835f20fc7",
   "metadata": {},
   "outputs": [],
   "source": [
    "converter = {\n",
    "    'sub': lambda x, y : x - y,\n",
    "    'div': lambda x, y : x/y,\n",
    "    'mul': lambda x, y : x*y,\n",
    "    'add': lambda x, y : x + y,\n",
    "    'neg': lambda x    : -x,\n",
    "    'pow': lambda x, y : x**y,\n",
    "    'sin': lambda x    : sin(x),\n",
    "    'cos': lambda x    : cos(x),\n",
    "    'inv': lambda x: 1/x,\n",
    "    'sqrt': lambda x: x**0.5,\n",
    "}"
   ]
  },
  {
   "cell_type": "code",
   "execution_count": 9,
   "id": "e89c3d54-e177-49d9-a95c-66623bbfbe33",
   "metadata": {},
   "outputs": [],
   "source": [
    "# est_gp.fit(X_train, y_train)\n",
    "# print('R2:',est_gp.score(X_test,y_test))"
   ]
  },
  {
   "cell_type": "code",
   "execution_count": 10,
   "id": "441846d0-c8d1-4575-b0a8-27e640a1d031",
   "metadata": {},
   "outputs": [],
   "source": [
    "# next_e = sympify((est_gp._program), locals=converter)\n",
    "# next_e"
   ]
  },
  {
   "cell_type": "code",
   "execution_count": 11,
   "id": "ee69b684-b59e-4773-b416-e3693295f52a",
   "metadata": {},
   "outputs": [],
   "source": [
    "# y_gp = est_gp.predict(X_test)\n",
    "# score_gp = est_gp.score(X_test, y_test)"
   ]
  },
  {
   "cell_type": "code",
   "execution_count": 12,
   "id": "67a1c4b3-a138-437f-a7cc-f415f306bbdc",
   "metadata": {},
   "outputs": [
    {
     "name": "stdout",
     "output_type": "stream",
     "text": [
      "    |   Population Average    |             Best Individual              |\n",
      "---- ------------------------- ------------------------------------------ ----------\n",
      " Gen   Length          Fitness   Length          Fitness      OOB Fitness  Time Left\n",
      "   0    11.29     9.52073e+136       25          63.6051          64.3579      4.73m\n",
      "   1     8.71      2.66357e+46        6          47.5595          47.6078      4.15m\n",
      "   2    10.02     4.76037e+136       26          45.8721          46.7225      4.15m\n",
      "   3    11.97       2.8913e+41       11          43.8354          42.9779      4.92m\n",
      "   4    12.27     1.08093e+110       17          43.2813          44.0629      4.51m\n",
      "   5    17.32     4.41678e+136       26          40.5157          41.0326      4.63m\n",
      "   6    18.41      2.40352e+40       26          40.4477          41.6452      3.74m\n",
      "   7    18.19      2.32785e+32       25          40.3952          42.1177      3.28m\n",
      "   8    25.33      2.66343e+46       40          39.4427          40.1364      4.70m\n",
      "   9    26.16      7.59279e+58       27          39.3921          40.5905      4.66m\n",
      "  10    25.86      1.82808e+29       42          37.4573          37.3187      3.94m\n",
      "  11    32.67       1.9788e+63       56          37.2486          39.1967      3.86m\n",
      "  12    31.06      1.83281e+75       28          36.7967          36.5128      3.93m\n",
      "  13    37.22      7.64945e+56       46          35.6223          35.9084      5.01m\n",
      "  14    32.10      2.24263e+40       48          35.5754          36.3311      3.21m\n",
      "  15    31.71      1.69403e+32       34          35.4548           36.045      2.63m\n",
      "  16    36.43      3.34651e+54       32          35.1669          35.7146      2.10m\n",
      "  17    37.19      2.05452e+15       30          34.8988          35.1697      1.90m\n",
      "  18    34.56      1.56556e+19       28          34.8566          35.5498     50.06s\n",
      "  19    31.99      1.26066e+60       30          34.8065          36.0006      0.00s\n",
      "R2: 0.5993049625954228\n"
     ]
    }
   ],
   "source": [
    "def pow_3(x1):\n",
    "    f = x1**3\n",
    "    return f\n",
    "\n",
    "\n",
    "pow_3 = make_function(function=pow_3,name='pow3',arity=1)\n",
    "# add the new function to the function_set\n",
    "\n",
    "function_set = ['add', 'sub', 'mul', 'div', 'neg','inv','log', pow_3]\n",
    "est_gp = SymbolicRegressor(population_size=1000,function_set=function_set,\n",
    "                           generations=20, stopping_criteria=0.01,\n",
    "                           p_crossover=0.7, p_subtree_mutation=0.1,\n",
    "                           p_hoist_mutation=0.05, p_point_mutation=0.1,\n",
    "                           max_samples=0.9, verbose=1,\n",
    "                           parsimony_coefficient=0.01, random_state=0,\n",
    "                          feature_names=X.columns)\n",
    "est_gp.fit(X, y)\n",
    "print('R2:',est_gp.score(X, y))"
   ]
  },
  {
   "cell_type": "code",
   "execution_count": 13,
   "id": "40d391a5-d597-4401-aedf-6d355bce351a",
   "metadata": {},
   "outputs": [
    {
     "name": "stdout",
     "output_type": "stream",
     "text": [
      "sub(mul(neg(neg(log(g))), add(inv(neg(e)), add(inv(neg(e)), sub(mul(g, g), neg(pow3(log(add(pow3(log(add(f, d))), d)))))))), log(a))\n"
     ]
    }
   ],
   "source": [
    "print(est_gp._program)"
   ]
  },
  {
   "cell_type": "code",
   "execution_count": 14,
   "id": "dcfa60a8-b641-4035-a59b-45c7f3244740",
   "metadata": {},
   "outputs": [
    {
     "data": {
      "text/latex": [
       "$\\displaystyle \\operatorname{sub}{\\left(\\operatorname{mul}{\\left(\\operatorname{neg}{\\left(\\operatorname{neg}{\\left(\\log{\\left(g \\right)} \\right)} \\right)},\\operatorname{add}{\\left(\\operatorname{inv}{\\left(\\operatorname{neg}{\\left(e \\right)} \\right)},\\operatorname{add}{\\left(\\operatorname{inv}{\\left(\\operatorname{neg}{\\left(e \\right)} \\right)},\\operatorname{sub}{\\left(\\operatorname{mul}{\\left(g,g \\right)},\\operatorname{neg}{\\left(\\operatorname{pow_{3}}{\\left(\\log{\\left(\\operatorname{add}{\\left(\\operatorname{pow_{3}}{\\left(\\log{\\left(\\operatorname{add}{\\left(f,d \\right)} \\right)} \\right)},d \\right)} \\right)} \\right)} \\right)} \\right)} \\right)} \\right)} \\right)},\\log{\\left(a \\right)} \\right)}$"
      ],
      "text/plain": [
       "sub(mul(neg(neg(log(g))), add(inv(neg(e)), add(inv(neg(e)), sub(mul(g, g), neg(pow3(log(add(pow3(log(add(f, d))), d)))))))), log(a))"
      ]
     },
     "execution_count": 14,
     "metadata": {},
     "output_type": "execute_result"
    }
   ],
   "source": [
    "next_e = sympify(sympify(est_gp._program), locals=converter)\n",
    "next_e"
   ]
  },
  {
   "cell_type": "code",
   "execution_count": 15,
   "id": "c9680940-02ce-4bc5-a6e9-d55b13ccff08",
   "metadata": {
    "tags": []
   },
   "outputs": [],
   "source": [
    "y_pred = est_gp.predict(X)"
   ]
  },
  {
   "cell_type": "code",
   "execution_count": 16,
   "id": "8f54042d-6de7-41b5-beb7-4de0b67b325e",
   "metadata": {},
   "outputs": [
    {
     "name": "stdout",
     "output_type": "stream",
     "text": [
      "log Mean absolute Error 3.5532287117271615\n"
     ]
    }
   ],
   "source": [
    "mse = np.log(metrics.mean_absolute_error(y, y_pred))\n",
    "print(\"log Mean absolute Error {}\".format(mse))"
   ]
  },
  {
   "cell_type": "code",
   "execution_count": 17,
   "id": "faead122-e486-4576-a2bb-4bcd186352c3",
   "metadata": {},
   "outputs": [],
   "source": [
    "df_test = df_test.iloc[:, [1, 2, 3, 4, 5, 11, 12]]\n",
    "df_test.columns = ['a','b','c','d','e','f','g']"
   ]
  },
  {
   "cell_type": "code",
   "execution_count": 18,
   "id": "67610d88-ac6a-4c22-bea5-d3be58bdf578",
   "metadata": {},
   "outputs": [],
   "source": [
    "pred = est_gp.predict(df_test)\n",
    "ID = np.arange(68614, 85614)\n",
    "pd.DataFrame({'id':ID, 'CO2_working_capacity [mL/g]': pred}).set_index('id').to_csv('submission.csv')"
   ]
  },
  {
   "cell_type": "code",
   "execution_count": 19,
   "id": "6dafef39-55fe-4744-b9a1-edee4ea26890",
   "metadata": {},
   "outputs": [],
   "source": [
    "from zipfile import ZipFile"
   ]
  },
  {
   "cell_type": "code",
   "execution_count": 20,
   "id": "871518a5-1721-48a0-bc82-242e8e8c47e3",
   "metadata": {},
   "outputs": [],
   "source": [
    "with ZipFile('model01.zip', mode='w') as zf:\n",
    "        zf.write('submission.csv')"
   ]
  },
  {
   "cell_type": "code",
   "execution_count": null,
   "id": "a82a2276-8094-4dc7-957b-06f333ad60d4",
   "metadata": {},
   "outputs": [],
   "source": [
    "import numpy as np"
   ]
  },
  {
   "cell_type": "code",
   "execution_count": null,
   "id": "2766665f-00d0-47ed-9f20-7bd9e24c80e7",
   "metadata": {},
   "outputs": [],
   "source": []
  }
 ],
 "metadata": {
  "kernelspec": {
   "display_name": "Python (AIML)",
   "language": "python",
   "name": "aiml"
  },
  "language_info": {
   "codemirror_mode": {
    "name": "ipython",
    "version": 3
   },
   "file_extension": ".py",
   "mimetype": "text/x-python",
   "name": "python",
   "nbconvert_exporter": "python",
   "pygments_lexer": "ipython3",
   "version": "3.7.9"
  }
 },
 "nbformat": 4,
 "nbformat_minor": 5
}
